{
 "cells": [
  {
   "cell_type": "code",
   "execution_count": 15,
   "metadata": {},
   "outputs": [
    {
     "data": {
      "text/html": [
       "wandb version 0.12.21 is available!  To upgrade, please run:\n",
       " $ pip install wandb --upgrade"
      ],
      "text/plain": [
       "<IPython.core.display.HTML object>"
      ]
     },
     "metadata": {},
     "output_type": "display_data"
    },
    {
     "data": {
      "text/html": [
       "Tracking run with wandb version 0.12.18"
      ],
      "text/plain": [
       "<IPython.core.display.HTML object>"
      ]
     },
     "metadata": {},
     "output_type": "display_data"
    },
    {
     "data": {
      "text/html": [
       "Run data is saved locally in <code>/home/fer/projects/diameterY/dataset/rendered-fibers/create/wandb/run-20220710_185056-3qn19wy2</code>"
      ],
      "text/plain": [
       "<IPython.core.display.HTML object>"
      ]
     },
     "metadata": {},
     "output_type": "display_data"
    },
    {
     "data": {
      "text/html": [
       "Syncing run <strong><a href=\"https://wandb.ai/warm-kanelbullar/diameterY/runs/3qn19wy2\" target=\"_blank\">jumping-disco-42</a></strong> to <a href=\"https://wandb.ai/warm-kanelbullar/diameterY\" target=\"_blank\">Weights & Biases</a> (<a href=\"https://wandb.me/run\" target=\"_blank\">docs</a>)<br/>"
      ],
      "text/plain": [
       "<IPython.core.display.HTML object>"
      ]
     },
     "metadata": {},
     "output_type": "display_data"
    },
    {
     "name": "stderr",
     "output_type": "stream",
     "text": [
      "/tmp/ipykernel_905982/1697777281.py:34: FutureWarning: The frame.append method is deprecated and will be removed from pandas in a future version. Use pandas.concat instead.\n",
      "  df = df.append({\n",
      "/tmp/ipykernel_905982/1697777281.py:34: FutureWarning: The frame.append method is deprecated and will be removed from pandas in a future version. Use pandas.concat instead.\n",
      "  df = df.append({\n",
      "/tmp/ipykernel_905982/1697777281.py:34: FutureWarning: The frame.append method is deprecated and will be removed from pandas in a future version. Use pandas.concat instead.\n",
      "  df = df.append({\n",
      "/tmp/ipykernel_905982/1697777281.py:34: FutureWarning: The frame.append method is deprecated and will be removed from pandas in a future version. Use pandas.concat instead.\n",
      "  df = df.append({\n",
      "/tmp/ipykernel_905982/1697777281.py:34: FutureWarning: The frame.append method is deprecated and will be removed from pandas in a future version. Use pandas.concat instead.\n",
      "  df = df.append({\n",
      "/tmp/ipykernel_905982/1697777281.py:34: FutureWarning: The frame.append method is deprecated and will be removed from pandas in a future version. Use pandas.concat instead.\n",
      "  df = df.append({\n",
      "/tmp/ipykernel_905982/1697777281.py:34: FutureWarning: The frame.append method is deprecated and will be removed from pandas in a future version. Use pandas.concat instead.\n",
      "  df = df.append({\n",
      "/tmp/ipykernel_905982/1697777281.py:34: FutureWarning: The frame.append method is deprecated and will be removed from pandas in a future version. Use pandas.concat instead.\n",
      "  df = df.append({\n",
      "/tmp/ipykernel_905982/1697777281.py:34: FutureWarning: The frame.append method is deprecated and will be removed from pandas in a future version. Use pandas.concat instead.\n",
      "  df = df.append({\n",
      "/tmp/ipykernel_905982/1697777281.py:34: FutureWarning: The frame.append method is deprecated and will be removed from pandas in a future version. Use pandas.concat instead.\n",
      "  df = df.append({\n",
      "/tmp/ipykernel_905982/1697777281.py:34: FutureWarning: The frame.append method is deprecated and will be removed from pandas in a future version. Use pandas.concat instead.\n",
      "  df = df.append({\n",
      "/tmp/ipykernel_905982/1697777281.py:34: FutureWarning: The frame.append method is deprecated and will be removed from pandas in a future version. Use pandas.concat instead.\n",
      "  df = df.append({\n",
      "/tmp/ipykernel_905982/1697777281.py:34: FutureWarning: The frame.append method is deprecated and will be removed from pandas in a future version. Use pandas.concat instead.\n",
      "  df = df.append({\n",
      "/tmp/ipykernel_905982/1697777281.py:34: FutureWarning: The frame.append method is deprecated and will be removed from pandas in a future version. Use pandas.concat instead.\n",
      "  df = df.append({\n",
      "/tmp/ipykernel_905982/1697777281.py:34: FutureWarning: The frame.append method is deprecated and will be removed from pandas in a future version. Use pandas.concat instead.\n",
      "  df = df.append({\n",
      "/tmp/ipykernel_905982/1697777281.py:34: FutureWarning: The frame.append method is deprecated and will be removed from pandas in a future version. Use pandas.concat instead.\n",
      "  df = df.append({\n",
      "/tmp/ipykernel_905982/1697777281.py:34: FutureWarning: The frame.append method is deprecated and will be removed from pandas in a future version. Use pandas.concat instead.\n",
      "  df = df.append({\n",
      "/tmp/ipykernel_905982/1697777281.py:34: FutureWarning: The frame.append method is deprecated and will be removed from pandas in a future version. Use pandas.concat instead.\n",
      "  df = df.append({\n",
      "/tmp/ipykernel_905982/1697777281.py:34: FutureWarning: The frame.append method is deprecated and will be removed from pandas in a future version. Use pandas.concat instead.\n",
      "  df = df.append({\n",
      "/tmp/ipykernel_905982/1697777281.py:34: FutureWarning: The frame.append method is deprecated and will be removed from pandas in a future version. Use pandas.concat instead.\n",
      "  df = df.append({\n",
      "/tmp/ipykernel_905982/1697777281.py:34: FutureWarning: The frame.append method is deprecated and will be removed from pandas in a future version. Use pandas.concat instead.\n",
      "  df = df.append({\n",
      "/tmp/ipykernel_905982/1697777281.py:34: FutureWarning: The frame.append method is deprecated and will be removed from pandas in a future version. Use pandas.concat instead.\n",
      "  df = df.append({\n",
      "/tmp/ipykernel_905982/1697777281.py:34: FutureWarning: The frame.append method is deprecated and will be removed from pandas in a future version. Use pandas.concat instead.\n",
      "  df = df.append({\n",
      "/tmp/ipykernel_905982/1697777281.py:34: FutureWarning: The frame.append method is deprecated and will be removed from pandas in a future version. Use pandas.concat instead.\n",
      "  df = df.append({\n",
      "/tmp/ipykernel_905982/1697777281.py:34: FutureWarning: The frame.append method is deprecated and will be removed from pandas in a future version. Use pandas.concat instead.\n",
      "  df = df.append({\n",
      "/tmp/ipykernel_905982/1697777281.py:34: FutureWarning: The frame.append method is deprecated and will be removed from pandas in a future version. Use pandas.concat instead.\n",
      "  df = df.append({\n",
      "/tmp/ipykernel_905982/1697777281.py:34: FutureWarning: The frame.append method is deprecated and will be removed from pandas in a future version. Use pandas.concat instead.\n",
      "  df = df.append({\n",
      "/tmp/ipykernel_905982/1697777281.py:34: FutureWarning: The frame.append method is deprecated and will be removed from pandas in a future version. Use pandas.concat instead.\n",
      "  df = df.append({\n",
      "/tmp/ipykernel_905982/1697777281.py:34: FutureWarning: The frame.append method is deprecated and will be removed from pandas in a future version. Use pandas.concat instead.\n",
      "  df = df.append({\n",
      "/tmp/ipykernel_905982/1697777281.py:34: FutureWarning: The frame.append method is deprecated and will be removed from pandas in a future version. Use pandas.concat instead.\n",
      "  df = df.append({\n",
      "/tmp/ipykernel_905982/1697777281.py:34: FutureWarning: The frame.append method is deprecated and will be removed from pandas in a future version. Use pandas.concat instead.\n",
      "  df = df.append({\n",
      "/tmp/ipykernel_905982/1697777281.py:34: FutureWarning: The frame.append method is deprecated and will be removed from pandas in a future version. Use pandas.concat instead.\n",
      "  df = df.append({\n",
      "/tmp/ipykernel_905982/1697777281.py:34: FutureWarning: The frame.append method is deprecated and will be removed from pandas in a future version. Use pandas.concat instead.\n",
      "  df = df.append({\n",
      "/tmp/ipykernel_905982/1697777281.py:34: FutureWarning: The frame.append method is deprecated and will be removed from pandas in a future version. Use pandas.concat instead.\n",
      "  df = df.append({\n",
      "/tmp/ipykernel_905982/1697777281.py:34: FutureWarning: The frame.append method is deprecated and will be removed from pandas in a future version. Use pandas.concat instead.\n",
      "  df = df.append({\n",
      "/tmp/ipykernel_905982/1697777281.py:34: FutureWarning: The frame.append method is deprecated and will be removed from pandas in a future version. Use pandas.concat instead.\n",
      "  df = df.append({\n",
      "/tmp/ipykernel_905982/1697777281.py:34: FutureWarning: The frame.append method is deprecated and will be removed from pandas in a future version. Use pandas.concat instead.\n",
      "  df = df.append({\n",
      "/tmp/ipykernel_905982/1697777281.py:34: FutureWarning: The frame.append method is deprecated and will be removed from pandas in a future version. Use pandas.concat instead.\n",
      "  df = df.append({\n",
      "/tmp/ipykernel_905982/1697777281.py:34: FutureWarning: The frame.append method is deprecated and will be removed from pandas in a future version. Use pandas.concat instead.\n",
      "  df = df.append({\n",
      "/tmp/ipykernel_905982/1697777281.py:34: FutureWarning: The frame.append method is deprecated and will be removed from pandas in a future version. Use pandas.concat instead.\n",
      "  df = df.append({\n",
      "/tmp/ipykernel_905982/1697777281.py:34: FutureWarning: The frame.append method is deprecated and will be removed from pandas in a future version. Use pandas.concat instead.\n",
      "  df = df.append({\n",
      "/tmp/ipykernel_905982/1697777281.py:34: FutureWarning: The frame.append method is deprecated and will be removed from pandas in a future version. Use pandas.concat instead.\n",
      "  df = df.append({\n",
      "/tmp/ipykernel_905982/1697777281.py:34: FutureWarning: The frame.append method is deprecated and will be removed from pandas in a future version. Use pandas.concat instead.\n",
      "  df = df.append({\n",
      "/tmp/ipykernel_905982/1697777281.py:34: FutureWarning: The frame.append method is deprecated and will be removed from pandas in a future version. Use pandas.concat instead.\n",
      "  df = df.append({\n",
      "/tmp/ipykernel_905982/1697777281.py:34: FutureWarning: The frame.append method is deprecated and will be removed from pandas in a future version. Use pandas.concat instead.\n",
      "  df = df.append({\n",
      "/tmp/ipykernel_905982/1697777281.py:34: FutureWarning: The frame.append method is deprecated and will be removed from pandas in a future version. Use pandas.concat instead.\n",
      "  df = df.append({\n",
      "/tmp/ipykernel_905982/1697777281.py:34: FutureWarning: The frame.append method is deprecated and will be removed from pandas in a future version. Use pandas.concat instead.\n",
      "  df = df.append({\n",
      "/tmp/ipykernel_905982/1697777281.py:34: FutureWarning: The frame.append method is deprecated and will be removed from pandas in a future version. Use pandas.concat instead.\n",
      "  df = df.append({\n",
      "/tmp/ipykernel_905982/1697777281.py:34: FutureWarning: The frame.append method is deprecated and will be removed from pandas in a future version. Use pandas.concat instead.\n",
      "  df = df.append({\n",
      "/tmp/ipykernel_905982/1697777281.py:34: FutureWarning: The frame.append method is deprecated and will be removed from pandas in a future version. Use pandas.concat instead.\n",
      "  df = df.append({\n",
      "/tmp/ipykernel_905982/1697777281.py:34: FutureWarning: The frame.append method is deprecated and will be removed from pandas in a future version. Use pandas.concat instead.\n",
      "  df = df.append({\n",
      "/tmp/ipykernel_905982/1697777281.py:34: FutureWarning: The frame.append method is deprecated and will be removed from pandas in a future version. Use pandas.concat instead.\n",
      "  df = df.append({\n",
      "/tmp/ipykernel_905982/1697777281.py:34: FutureWarning: The frame.append method is deprecated and will be removed from pandas in a future version. Use pandas.concat instead.\n",
      "  df = df.append({\n",
      "/tmp/ipykernel_905982/1697777281.py:34: FutureWarning: The frame.append method is deprecated and will be removed from pandas in a future version. Use pandas.concat instead.\n",
      "  df = df.append({\n",
      "/tmp/ipykernel_905982/1697777281.py:34: FutureWarning: The frame.append method is deprecated and will be removed from pandas in a future version. Use pandas.concat instead.\n",
      "  df = df.append({\n",
      "/tmp/ipykernel_905982/1697777281.py:34: FutureWarning: The frame.append method is deprecated and will be removed from pandas in a future version. Use pandas.concat instead.\n",
      "  df = df.append({\n",
      "/tmp/ipykernel_905982/1697777281.py:34: FutureWarning: The frame.append method is deprecated and will be removed from pandas in a future version. Use pandas.concat instead.\n",
      "  df = df.append({\n",
      "/tmp/ipykernel_905982/1697777281.py:34: FutureWarning: The frame.append method is deprecated and will be removed from pandas in a future version. Use pandas.concat instead.\n",
      "  df = df.append({\n",
      "/tmp/ipykernel_905982/1697777281.py:34: FutureWarning: The frame.append method is deprecated and will be removed from pandas in a future version. Use pandas.concat instead.\n",
      "  df = df.append({\n",
      "/tmp/ipykernel_905982/1697777281.py:34: FutureWarning: The frame.append method is deprecated and will be removed from pandas in a future version. Use pandas.concat instead.\n",
      "  df = df.append({\n"
     ]
    },
    {
     "data": {
      "text/html": [
       "Waiting for W&B process to finish... <strong style=\"color:green\">(success).</strong>"
      ],
      "text/plain": [
       "<IPython.core.display.HTML object>"
      ]
     },
     "metadata": {},
     "output_type": "display_data"
    },
    {
     "data": {
      "application/vnd.jupyter.widget-view+json": {
       "model_id": "4443749e8f88448ea716c15e6940b8e6",
       "version_major": 2,
       "version_minor": 0
      },
      "text/plain": [
       "VBox(children=(Label(value='2.638 MB of 2.638 MB uploaded (0.000 MB deduped)\\r'), FloatProgress(value=1.0, max…"
      ]
     },
     "metadata": {},
     "output_type": "display_data"
    },
    {
     "data": {
      "text/html": [
       "Synced <strong style=\"color:#cdcd00\">jumping-disco-42</strong>: <a href=\"https://wandb.ai/warm-kanelbullar/diameterY/runs/3qn19wy2\" target=\"_blank\">https://wandb.ai/warm-kanelbullar/diameterY/runs/3qn19wy2</a><br/>Synced 6 W&B file(s), 1 media file(s), 144 artifact file(s) and 0 other file(s)"
      ],
      "text/plain": [
       "<IPython.core.display.HTML object>"
      ]
     },
     "metadata": {},
     "output_type": "display_data"
    },
    {
     "data": {
      "text/html": [
       "Find logs at: <code>./wandb/run-20220710_185056-3qn19wy2/logs</code>"
      ],
      "text/plain": [
       "<IPython.core.display.HTML object>"
      ]
     },
     "metadata": {},
     "output_type": "display_data"
    }
   ],
   "source": [
    "import wandb\n",
    "import pandas as pd\n",
    "from PIL import Image, ImageOps\n",
    "import json\n",
    "import numpy as np\n",
    "\n",
    "\n",
    "with wandb.init(project='diameterY', mode='online') as run:\n",
    "    artifact = wandb.Artifact('rendered-fibers-mini-preview', type='table-dataset', description='rendered-fibers in table version')\n",
    "    # run.use_artifact('rendered-fibers-table:latest')\n",
    "    # artifact.download()\n",
    "    df = pd.DataFrame(columns=['image', 'diameters', 'p1(s)', 'p2(s)', 'set'])\n",
    "    for set_name, size in {'train':20,'val':20,'test':20}.items():\n",
    "        for i in range(size):\n",
    "            basename = f'../output/{set_name}{i:04d}'\n",
    "            image = Image.open(f'{basename}.png')\n",
    "            image = ImageOps.grayscale(image)\n",
    "            image = np.array(image)\n",
    "            # print(image.shape)\n",
    "            seg = np.squeeze(np.load(f'{basename}_seg.npz')['y'])\n",
    "            seg = np.max([np.zeros_like(seg, dtype=np.int32), seg.astype(np.int32)-99], axis=0).astype(int)\n",
    "            with open(f'{basename}.json') as file:\n",
    "                params = json.load(file)\n",
    "            \n",
    "            class_labels = {int(k)-99:f'f{int(k)-99:02d}' for k in params.keys() if k!='0'}\n",
    "            class_labels.update({0:'bg'})\n",
    "            wandb_im = wandb.Image(image, caption=basename, masks={\n",
    "                'ground_truth':{\n",
    "                    'mask_data': seg,\n",
    "                    'class_labels': class_labels  \n",
    "                }\n",
    "            })\n",
    "            vals = list(params.values())[1:]\n",
    "            df = df.append({\n",
    "                'image':wandb_im,\n",
    "                'diameters': [v['d'] for v in vals],\n",
    "                'p1(s)': [v['p1'] for v in vals],\n",
    "                'p2(s)': [v['p2'] for v in vals],\n",
    "                'set':set_name\n",
    "            }, ignore_index=True)\n",
    "    \n",
    "    run.log({'preview_table':wandb.Table(dataframe=df)})\n",
    "            \n",
    "\n",
    "\n"
   ]
  },
  {
   "cell_type": "code",
   "execution_count": null,
   "metadata": {},
   "outputs": [],
   "source": []
  }
 ],
 "metadata": {
  "kernelspec": {
   "display_name": "Python 3.8.12 ('diameterY')",
   "language": "python",
   "name": "python3"
  },
  "language_info": {
   "codemirror_mode": {
    "name": "ipython",
    "version": 3
   },
   "file_extension": ".py",
   "mimetype": "text/x-python",
   "name": "python",
   "nbconvert_exporter": "python",
   "pygments_lexer": "ipython3",
   "version": "3.8.12"
  },
  "orig_nbformat": 4,
  "vscode": {
   "interpreter": {
    "hash": "744a2faa7d32537b223e0cc2dfbaa2f2398f3f81bdc1625fb7235d65fc75c923"
   }
  }
 },
 "nbformat": 4,
 "nbformat_minor": 2
}
