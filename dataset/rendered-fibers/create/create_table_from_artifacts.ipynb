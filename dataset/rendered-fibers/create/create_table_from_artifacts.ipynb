{
 "cells": [
  {
   "cell_type": "code",
   "execution_count": 14,
   "metadata": {},
   "outputs": [
    {
     "data": {
      "text/html": [
       "wandb version 0.12.21 is available!  To upgrade, please run:\n",
       " $ pip install wandb --upgrade"
      ],
      "text/plain": [
       "<IPython.core.display.HTML object>"
      ]
     },
     "metadata": {},
     "output_type": "display_data"
    },
    {
     "data": {
      "text/html": [
       "Tracking run with wandb version 0.12.18"
      ],
      "text/plain": [
       "<IPython.core.display.HTML object>"
      ]
     },
     "metadata": {},
     "output_type": "display_data"
    },
    {
     "data": {
      "text/html": [
       "Run data is saved locally in <code>/home/fer/projects/diameterY/dataset/rendered-fibers/create/wandb/run-20220710_154811-2c1pfq22</code>"
      ],
      "text/plain": [
       "<IPython.core.display.HTML object>"
      ]
     },
     "metadata": {},
     "output_type": "display_data"
    },
    {
     "data": {
      "text/html": [
       "Syncing run <strong><a href=\"https://wandb.ai/warm-kanelbullar/diameterY/runs/2c1pfq22\" target=\"_blank\">fast-breeze-37</a></strong> to <a href=\"https://wandb.ai/warm-kanelbullar/diameterY\" target=\"_blank\">Weights & Biases</a> (<a href=\"https://wandb.me/run\" target=\"_blank\">docs</a>)<br/>"
      ],
      "text/plain": [
       "<IPython.core.display.HTML object>"
      ]
     },
     "metadata": {},
     "output_type": "display_data"
    },
    {
     "name": "stdout",
     "output_type": "stream",
     "text": [
      "{1: 'f01', 2: 'f02', 3: 'f03', 4: 'f04', 5: 'f05', 6: 'f06', 7: 'f07', 8: 'f08', 9: 'f09', 10: 'f10', 11: 'f11', 12: 'f12', 13: 'f13', 14: 'f14', 15: 'f15', 16: 'f16', 17: 'f17', 18: 'f18', 19: 'f19', 20: 'f20', 21: 'f21', 22: 'f22', 23: 'f23', 24: 'f24', 25: 'f25', 26: 'f26', 27: 'f27', 28: 'f28', 29: 'f29', 30: 'f30', 31: 'f31', 32: 'f32', 33: 'f33', 34: 'f34', 35: 'f35', 36: 'f36', 37: 'f37', 38: 'f38', 39: 'f39', 40: 'f40', 41: 'f41', 42: 'f42', 43: 'f43', 44: 'f44', 45: 'f45', 46: 'f46', 47: 'f47', 48: 'f48', 49: 'f49', 50: 'f50', 0: 'bg'}\n",
      "{1: 'f01', 2: 'f02', 3: 'f03', 4: 'f04', 5: 'f05', 6: 'f06', 7: 'f07', 8: 'f08', 9: 'f09', 10: 'f10', 11: 'f11', 12: 'f12', 13: 'f13', 14: 'f14', 15: 'f15', 16: 'f16', 17: 'f17', 18: 'f18', 19: 'f19', 20: 'f20', 21: 'f21', 22: 'f22', 23: 'f23', 24: 'f24', 25: 'f25', 26: 'f26', 27: 'f27', 28: 'f28', 29: 'f29', 30: 'f30', 31: 'f31', 32: 'f32', 33: 'f33', 34: 'f34', 35: 'f35', 36: 'f36', 37: 'f37', 38: 'f38', 39: 'f39', 40: 'f40', 41: 'f41', 42: 'f42', 43: 'f43', 44: 'f44', 45: 'f45', 46: 'f46', 47: 'f47', 48: 'f48', 49: 'f49', 50: 'f50', 0: 'bg'}\n",
      "{1: 'f01', 2: 'f02', 3: 'f03', 4: 'f04', 5: 'f05', 6: 'f06', 7: 'f07', 8: 'f08', 9: 'f09', 10: 'f10', 11: 'f11', 12: 'f12', 13: 'f13', 14: 'f14', 15: 'f15', 16: 'f16', 0: 'bg'}\n",
      "{1: 'f01', 2: 'f02', 3: 'f03', 4: 'f04', 5: 'f05', 6: 'f06', 7: 'f07', 8: 'f08', 9: 'f09', 10: 'f10', 11: 'f11', 12: 'f12', 13: 'f13', 14: 'f14', 15: 'f15', 16: 'f16', 17: 'f17', 18: 'f18', 19: 'f19', 20: 'f20', 21: 'f21', 22: 'f22', 23: 'f23', 24: 'f24', 25: 'f25', 26: 'f26', 27: 'f27', 28: 'f28', 29: 'f29', 30: 'f30', 31: 'f31', 32: 'f32', 33: 'f33', 0: 'bg'}\n",
      "{1: 'f01', 2: 'f02', 3: 'f03', 4: 'f04', 5: 'f05', 6: 'f06', 7: 'f07', 8: 'f08', 9: 'f09', 10: 'f10', 11: 'f11', 12: 'f12', 13: 'f13', 14: 'f14', 15: 'f15', 16: 'f16', 17: 'f17', 18: 'f18', 19: 'f19', 20: 'f20', 21: 'f21', 22: 'f22', 23: 'f23', 24: 'f24', 25: 'f25', 26: 'f26', 27: 'f27', 28: 'f28', 29: 'f29', 30: 'f30', 31: 'f31', 32: 'f32', 33: 'f33', 34: 'f34', 35: 'f35', 36: 'f36', 37: 'f37', 38: 'f38', 39: 'f39', 40: 'f40', 41: 'f41', 42: 'f42', 43: 'f43', 44: 'f44', 45: 'f45', 46: 'f46', 47: 'f47', 48: 'f48', 49: 'f49', 50: 'f50', 0: 'bg'}\n"
     ]
    },
    {
     "name": "stderr",
     "output_type": "stream",
     "text": [
      "/tmp/ipykernel_905982/2754839619.py:35: FutureWarning: The frame.append method is deprecated and will be removed from pandas in a future version. Use pandas.concat instead.\n",
      "  df = df.append({\n",
      "/tmp/ipykernel_905982/2754839619.py:35: FutureWarning: The frame.append method is deprecated and will be removed from pandas in a future version. Use pandas.concat instead.\n",
      "  df = df.append({\n",
      "/tmp/ipykernel_905982/2754839619.py:35: FutureWarning: The frame.append method is deprecated and will be removed from pandas in a future version. Use pandas.concat instead.\n",
      "  df = df.append({\n",
      "/tmp/ipykernel_905982/2754839619.py:35: FutureWarning: The frame.append method is deprecated and will be removed from pandas in a future version. Use pandas.concat instead.\n",
      "  df = df.append({\n",
      "/tmp/ipykernel_905982/2754839619.py:35: FutureWarning: The frame.append method is deprecated and will be removed from pandas in a future version. Use pandas.concat instead.\n",
      "  df = df.append({\n",
      "/tmp/ipykernel_905982/2754839619.py:35: FutureWarning: The frame.append method is deprecated and will be removed from pandas in a future version. Use pandas.concat instead.\n",
      "  df = df.append({\n"
     ]
    },
    {
     "name": "stdout",
     "output_type": "stream",
     "text": [
      "{1: 'f01', 2: 'f02', 3: 'f03', 4: 'f04', 5: 'f05', 6: 'f06', 7: 'f07', 8: 'f08', 9: 'f09', 10: 'f10', 11: 'f11', 12: 'f12', 13: 'f13', 14: 'f14', 15: 'f15', 16: 'f16', 17: 'f17', 18: 'f18', 19: 'f19', 20: 'f20', 21: 'f21', 22: 'f22', 23: 'f23', 24: 'f24', 25: 'f25', 26: 'f26', 27: 'f27', 28: 'f28', 29: 'f29', 30: 'f30', 31: 'f31', 32: 'f32', 33: 'f33', 0: 'bg'}\n",
      "{1: 'f01', 2: 'f02', 3: 'f03', 4: 'f04', 5: 'f05', 6: 'f06', 7: 'f07', 8: 'f08', 9: 'f09', 10: 'f10', 11: 'f11', 12: 'f12', 13: 'f13', 14: 'f14', 15: 'f15', 16: 'f16', 17: 'f17', 18: 'f18', 0: 'bg'}\n",
      "{1: 'f01', 2: 'f02', 3: 'f03', 4: 'f04', 5: 'f05', 6: 'f06', 7: 'f07', 8: 'f08', 9: 'f09', 10: 'f10', 11: 'f11', 12: 'f12', 13: 'f13', 0: 'bg'}\n",
      "{1: 'f01', 2: 'f02', 3: 'f03', 4: 'f04', 5: 'f05', 6: 'f06', 7: 'f07', 8: 'f08', 9: 'f09', 10: 'f10', 11: 'f11', 12: 'f12', 13: 'f13', 14: 'f14', 15: 'f15', 16: 'f16', 17: 'f17', 18: 'f18', 19: 'f19', 20: 'f20', 21: 'f21', 22: 'f22', 23: 'f23', 24: 'f24', 25: 'f25', 26: 'f26', 0: 'bg'}\n"
     ]
    },
    {
     "name": "stderr",
     "output_type": "stream",
     "text": [
      "/tmp/ipykernel_905982/2754839619.py:35: FutureWarning: The frame.append method is deprecated and will be removed from pandas in a future version. Use pandas.concat instead.\n",
      "  df = df.append({\n",
      "/tmp/ipykernel_905982/2754839619.py:35: FutureWarning: The frame.append method is deprecated and will be removed from pandas in a future version. Use pandas.concat instead.\n",
      "  df = df.append({\n",
      "/tmp/ipykernel_905982/2754839619.py:35: FutureWarning: The frame.append method is deprecated and will be removed from pandas in a future version. Use pandas.concat instead.\n",
      "  df = df.append({\n"
     ]
    },
    {
     "data": {
      "text/html": [
       "Waiting for W&B process to finish... <strong style=\"color:green\">(success).</strong>"
      ],
      "text/plain": [
       "<IPython.core.display.HTML object>"
      ]
     },
     "metadata": {},
     "output_type": "display_data"
    },
    {
     "data": {
      "application/vnd.jupyter.widget-view+json": {
       "model_id": "851eb55dcfc846da9c50229306d13ab6",
       "version_major": 2,
       "version_minor": 0
      },
      "text/plain": [
       "VBox(children=(Label(value='0.452 MB of 0.486 MB uploaded (0.000 MB deduped)\\r'), FloatProgress(value=0.930869…"
      ]
     },
     "metadata": {},
     "output_type": "display_data"
    },
    {
     "data": {
      "text/html": [
       "Synced <strong style=\"color:#cdcd00\">fast-breeze-37</strong>: <a href=\"https://wandb.ai/warm-kanelbullar/diameterY/runs/2c1pfq22\" target=\"_blank\">https://wandb.ai/warm-kanelbullar/diameterY/runs/2c1pfq22</a><br/>Synced 6 W&B file(s), 1 media file(s), 25 artifact file(s) and 0 other file(s)"
      ],
      "text/plain": [
       "<IPython.core.display.HTML object>"
      ]
     },
     "metadata": {},
     "output_type": "display_data"
    },
    {
     "data": {
      "text/html": [
       "Find logs at: <code>./wandb/run-20220710_154811-2c1pfq22/logs</code>"
      ],
      "text/plain": [
       "<IPython.core.display.HTML object>"
      ]
     },
     "metadata": {},
     "output_type": "display_data"
    }
   ],
   "source": [
    "import wandb\n",
    "import pandas as pd\n",
    "from PIL import Image, ImageOps\n",
    "import json\n",
    "import numpy as np\n",
    "\n",
    "\n",
    "with wandb.init(project='diameterY', mode='online') as run:\n",
    "    artifact = wandb.Artifact('rendered-fibers-mini-preview', type='table-dataset', description='rendered-fibers in table version')\n",
    "    # run.use_artifact('rendered-fibers-table:latest')\n",
    "    # artifact.download()\n",
    "    df = pd.DataFrame(columns=['image', 'diameters', 'p1(s)', 'p2(s)', 'set'])\n",
    "    for set_name, size in {'train':3,'val':3,'test':3}.items():\n",
    "        for i in range(size):\n",
    "            basename = f'../output/{set_name}{i:04d}'\n",
    "            image = Image.open(f'{basename}.png')\n",
    "            image = ImageOps.grayscale(image)\n",
    "            image = np.array(image)\n",
    "            # print(image.shape)\n",
    "            seg = np.squeeze(np.load(f'{basename}_seg.npz')['y'])\n",
    "            seg = np.max([np.zeros_like(seg, dtype=np.int32), seg.astype(np.int32)-99], axis=0).astype(int)\n",
    "            with open(f'{basename}.json') as file:\n",
    "                params = json.load(file)\n",
    "            \n",
    "            class_labels = {int(k)-99:f'f{int(k)-99:02d}' for k in params.keys() if k!='0'}\n",
    "            class_labels.update({0:'bg'})\n",
    "            wandb_im = wandb.Image(image, caption=basename, masks={\n",
    "                'ground_truth':{\n",
    "                    'mask_data': seg,\n",
    "                    'class_labels': class_labels  \n",
    "                }\n",
    "            })\n",
    "            vals = list(params.values())[1:]\n",
    "            df = df.append({\n",
    "                'image':wandb_im,\n",
    "                'diameters': [v['d'] for v in vals],\n",
    "                'p1(s)': [v['p1'] for v in vals],\n",
    "                'p2(s)': [v['p2'] for v in vals],\n",
    "                'set':set_name\n",
    "            }, ignore_index=True)\n",
    "    \n",
    "    run.log({'preview_table':wandb.Table(dataframe=df)})\n",
    "            \n",
    "\n",
    "\n"
   ]
  },
  {
   "cell_type": "code",
   "execution_count": null,
   "metadata": {},
   "outputs": [],
   "source": []
  }
 ],
 "metadata": {
  "kernelspec": {
   "display_name": "Python 3.8.12 ('diameterY')",
   "language": "python",
   "name": "python3"
  },
  "language_info": {
   "codemirror_mode": {
    "name": "ipython",
    "version": 3
   },
   "file_extension": ".py",
   "mimetype": "text/x-python",
   "name": "python",
   "nbconvert_exporter": "python",
   "pygments_lexer": "ipython3",
   "version": "3.8.12"
  },
  "orig_nbformat": 4,
  "vscode": {
   "interpreter": {
    "hash": "744a2faa7d32537b223e0cc2dfbaa2f2398f3f81bdc1625fb7235d65fc75c923"
   }
  }
 },
 "nbformat": 4,
 "nbformat_minor": 2
}
