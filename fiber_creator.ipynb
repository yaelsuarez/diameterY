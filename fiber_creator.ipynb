{
 "cells": [
  {
   "cell_type": "code",
   "execution_count": 107,
   "metadata": {},
   "outputs": [],
   "source": [
    "import cv2 \n",
    "import numpy as np\n",
    "from PIL import Image\n",
    "import matplotlib.pyplot as plt"
   ]
  },
  {
   "cell_type": "code",
   "execution_count": 108,
   "metadata": {},
   "outputs": [],
   "source": [
    "\n",
    "width, height = 250, 250 #in pixels\n",
    "direction_generator = np.random.randint(1,3)\n",
    "line_thickness = np.random.randint(2,121)\n",
    "rgb = np.random.randint(120,221)\n",
    "color_line = (rgb,rgb,rgb)\n",
    "color_background = np.random.randint(40,61)"
   ]
  },
  {
   "cell_type": "code",
   "execution_count": 109,
   "metadata": {},
   "outputs": [],
   "source": [
    "def get_points(direction_generator):\n",
    "    if direction_generator == 1:\n",
    "        x1, y1 = np.random.randint(0,width+1), 0\n",
    "        x2, y2 = np.random.randint(0,width+1), height\n",
    "    if direction_generator == 2:\n",
    "        x1, y1 = 0, np.random.randint(0,height+1)\n",
    "        x2, y2 = width, np.random.randint(0,height+1)\n",
    "    return (x1, y1, x2, y2)"
   ]
  },
  {
   "cell_type": "code",
   "execution_count": 110,
   "metadata": {},
   "outputs": [
    {
     "data": {
      "image/png": "[encoded data removed]",
      "text/plain": [
       "<PIL.Image.Image image mode=L size=250x250 at 0x11C44EE20>"
      ]
     },
     "execution_count": 110,
     "metadata": {},
     "output_type": "execute_result"
    }
   ],
   "source": [
    "\n",
    "x1, y1, x2, y2 = get_points(direction_generator)\n",
    "image = np.ones((height, width), dtype=np.uint8) * color_background\n",
    "cv2.line(image, (x1, y1), (x2, y2), color_line, thickness=line_thickness)\n",
    "Image.fromarray(image)"
   ]
  },
  {
   "cell_type": "code",
   "execution_count": 111,
   "metadata": {},
   "outputs": [
    {
     "data": {
      "text/plain": [
       "array([-0.19234034,  0.98132828])"
      ]
     },
     "execution_count": 111,
     "metadata": {},
     "output_type": "execute_result"
    }
   ],
   "source": [
    "d = [x2 - x1, y2 - y1]\n",
    "magnitude = np.linalg.norm(d)\n",
    "d_unit = d/magnitude\n",
    "d_unit"
   ]
  },
  {
   "cell_type": "code",
   "execution_count": 112,
   "metadata": {},
   "outputs": [
    {
     "name": "stdout",
     "output_type": "stream",
     "text": [
      "[-0.98132828 -0.19234034]\n"
     ]
    }
   ],
   "source": [
    "tp = np.array(\n",
    "    [\n",
    "        [0,1],\n",
    "        [-1,0]\n",
    "    ]\n",
    ")\n",
    "normal_middle = np.matmul(d_unit,tp)\n",
    "print(normal_middle)"
   ]
  },
  {
   "cell_type": "code",
   "execution_count": 120,
   "metadata": {},
   "outputs": [
    {
     "name": "stdout",
     "output_type": "stream",
     "text": [
      "5.75 [-0.19234034  0.98132828] 23 [81, 0] [79.89404303  5.64263761]\n"
     ]
    },
    {
     "data": {
      "image/png": "[encoded data removed]",
      "text/plain": [
       "<PIL.Image.Image image mode=L size=250x250 at 0x11C4C0340>"
      ]
     },
     "execution_count": 120,
     "metadata": {},
     "output_type": "execute_result"
    }
   ],
   "source": [
    "quart_thick = line_thickness/4\n",
    "p1 = [x1,y1]\n",
    "p2 = [x2,y2]\n",
    "\n",
    "pu1 = quart_thick*d_unit + p1\n",
    "pu2 = quart_thick*d_unit + p2\n",
    "print(quart_thick, d_unit,line_thickness,p1,pu1)\n",
    "\n",
    "pu1x = round(pu1[0])\n",
    "pu1y = round(pu1[1])\n",
    "pu2x = round(pu2[0])\n",
    "pu2y = round(pu2[1])\n",
    "\n",
    "\n",
    "image_u = np.ones((height, width), dtype=np.uint8) * color_background\n",
    "cv2.line(image_u, (pu1x,pu1y), (pu2x, pu2y), color_line, thickness=line_thickness)\n",
    "Image.fromarray(image_u)"
   ]
  },
  {
   "cell_type": "code",
   "execution_count": null,
   "metadata": {},
   "outputs": [],
   "source": []
  }
 ],
 "metadata": {
  "interpreter": {
   "hash": "5d9f69135570fc3243ac7d7b9276ed0b4276cc562be5d026b16fe32f03502662"
  },
  "kernelspec": {
   "display_name": "Python 3.8.12 64-bit ('diametery': conda)",
   "name": "python3"
  },
  "language_info": {
   "codemirror_mode": {
    "name": "ipython",
    "version": 3
   },
   "file_extension": ".py",
   "mimetype": "text/x-python",
   "name": "python",
   "nbconvert_exporter": "python",
   "pygments_lexer": "ipython3",
   "version": "3.8.12"
  },
  "orig_nbformat": 4
 },
 "nbformat": 4,
 "nbformat_minor": 2
}
