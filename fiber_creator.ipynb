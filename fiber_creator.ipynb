{
 "cells": [
  {
   "cell_type": "code",
   "execution_count": 56,
   "metadata": {},
   "outputs": [],
   "source": [
    "import cv2 \n",
    "import numpy as np\n",
    "from PIL import Image\n",
    "import matplotlib.pyplot as plt"
   ]
  },
  {
   "cell_type": "code",
   "execution_count": 57,
   "metadata": {},
   "outputs": [],
   "source": [
    "\n",
    "width, height = 250, 250 #in pixels\n",
    "direction_generator = np.random.randint(1,3)\n",
    "line_thickness = np.random.randint(2,121)\n",
    "rgb = np.random.randint(120,221)\n",
    "color_line = (rgb,rgb,rgb)\n",
    "color_background = np.random.randint(40,61)"
   ]
  },
  {
   "cell_type": "code",
   "execution_count": 58,
   "metadata": {},
   "outputs": [],
   "source": [
    "def get_points(direction_generator):\n",
    "    if direction_generator == 1:\n",
    "        x1, y1 = np.random.randint(0,width+1), 0\n",
    "        x2, y2 = np.random.randint(0,width+1), height\n",
    "    if direction_generator == 2:\n",
    "        x1, y1 = 0, np.random.randint(0,height+1)\n",
    "        x2, y2 = width, np.random.randint(0,height+1)\n",
    "    return (x1, y1, x2, y2)"
   ]
  },
  {
   "cell_type": "code",
   "execution_count": 59,
   "metadata": {},
   "outputs": [
    {
     "data": {
      "image/png": "[encoded data removed]",
      "text/plain": [
       "<PIL.Image.Image image mode=L size=250x250 at 0x11A8F7610>"
      ]
     },
     "execution_count": 59,
     "metadata": {},
     "output_type": "execute_result"
    }
   ],
   "source": [
    "\n",
    "x1, y1, x2, y2 = get_points(direction_generator)\n",
    "image = np.ones((height, width), dtype=np.uint8) * color_background\n",
    "cv2.line(image, (x1, y1), (x2, y2), color_line, thickness=1)\n",
    "Image.fromarray(image)"
   ]
  },
  {
   "cell_type": "code",
   "execution_count": 70,
   "metadata": {},
   "outputs": [
    {
     "name": "stdout",
     "output_type": "stream",
     "text": [
      "250 0 \n",
      " 0 250 125.0\n"
     ]
    }
   ],
   "source": [
    "max_x = (max(x1,x2))\n",
    "min_x = (min(x1,x2))\n",
    "x3 = ((max_x-min_x)/2) + min_x\n",
    "m = (y2-y1)/(x2-x1)\n",
    "b = y2-m*x2\n",
    "y3 = m*x3+b\n"
   ]
  },
  {
   "cell_type": "code",
   "execution_count": 71,
   "metadata": {},
   "outputs": [
    {
     "data": {
      "text/plain": [
       "71.0"
      ]
     },
     "execution_count": 71,
     "metadata": {},
     "output_type": "execute_result"
    }
   ],
   "source": [
    "\n"
   ]
  },
  {
   "cell_type": "code",
   "execution_count": null,
   "metadata": {},
   "outputs": [
    {
     "name": "stdout",
     "output_type": "stream",
     "text": [
      "(242, 1) [[ 0  1]\n",
      " [-1  0]] [ -1 242]\n"
     ]
    }
   ],
   "source": [
    "point = x1,1\n",
    "tp = np.array(\n",
    "    [\n",
    "        [0,1],\n",
    "        [-1,0]\n",
    "    ]\n",
    ")\n",
    "normal_middle = np.matmul(point,tp)\n",
    "print(point,tp,normal_middle)"
   ]
  }
 ],
 "metadata": {
  "interpreter": {
   "hash": "5d9f69135570fc3243ac7d7b9276ed0b4276cc562be5d026b16fe32f03502662"
  },
  "kernelspec": {
   "display_name": "Python 3.8.12 64-bit ('diametery': conda)",
   "name": "python3"
  },
  "language_info": {
   "codemirror_mode": {
    "name": "ipython",
    "version": 3
   },
   "file_extension": ".py",
   "mimetype": "text/x-python",
   "name": "python",
   "nbconvert_exporter": "python",
   "pygments_lexer": "ipython3",
   "version": "3.8.12"
  },
  "orig_nbformat": 4
 },
 "nbformat": 4,
 "nbformat_minor": 2
}
