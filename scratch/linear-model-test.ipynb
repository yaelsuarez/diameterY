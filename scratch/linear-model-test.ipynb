{
 "cells": [
  {
   "cell_type": "code",
   "execution_count": 8,
   "metadata": {},
   "outputs": [
    {
     "name": "stderr",
     "output_type": "stream",
     "text": [
      "Failed to detect the name of this notebook, you can set it manually with the WANDB_NOTEBOOK_NAME environment variable to enable code saving.\n",
      "\u001b[34m\u001b[1mwandb\u001b[0m: Currently logged in as: \u001b[33myaelsuarez\u001b[0m (\u001b[33mwarm-kanelbullar\u001b[0m). Use \u001b[1m`wandb login --relogin`\u001b[0m to force relogin\n"
     ]
    },
    {
     "data": {
      "text/plain": [
       "True"
      ]
     },
     "execution_count": 8,
     "metadata": {},
     "output_type": "execute_result"
    }
   ],
   "source": [
    "import wandb\n",
    "wandb.login()"
   ]
  },
  {
   "cell_type": "code",
   "execution_count": 9,
   "metadata": {},
   "outputs": [],
   "source": [
    "from diametery.line_fit import LineFit\n",
    "import numpy as np\n",
    "import pandas as pd\n",
    "import os\n",
    "from tqdm import tqdm"
   ]
  },
  {
   "cell_type": "code",
   "execution_count": 13,
   "metadata": {},
   "outputs": [
    {
     "data": {
      "text/html": [
       "Tracking run with wandb version 0.12.21"
      ],
      "text/plain": [
       "<IPython.core.display.HTML object>"
      ]
     },
     "metadata": {},
     "output_type": "display_data"
    },
    {
     "data": {
      "text/html": [
       "Run data is saved locally in <code>/Users/carmenlopez/dev/diameterY/scratch/wandb/run-20220709_183937-j9wph9wv</code>"
      ],
      "text/plain": [
       "<IPython.core.display.HTML object>"
      ]
     },
     "metadata": {},
     "output_type": "display_data"
    },
    {
     "data": {
      "text/html": [
       "Syncing run <strong><a href=\"https://wandb.ai/warm-kanelbullar/diameterY-simple/runs/j9wph9wv\" target=\"_blank\">dutiful-sky-5</a></strong> to <a href=\"https://wandb.ai/warm-kanelbullar/diameterY-simple\" target=\"_blank\">Weights & Biases</a> (<a href=\"https://wandb.me/run\" target=\"_blank\">docs</a>)<br/>"
      ],
      "text/plain": [
       "<IPython.core.display.HTML object>"
      ]
     },
     "metadata": {},
     "output_type": "display_data"
    },
    {
     "name": "stderr",
     "output_type": "stream",
     "text": [
      "\u001b[34m\u001b[1mwandb\u001b[0m: Downloading large artifact simple-fibers:v0, 802.80MB. 3842 files... Done. 0:0:0.5\n",
      "images: 0it [00:34, ?it/s]\n",
      "images: 25it [00:00, 33.97it/s]/Users/carmenlopez/dev/diameterY/diametery/line_fit.py:113: RuntimeWarning: Mean of empty slice.\n",
      "  calculated_diameter = np.array(diameters).mean()\n",
      "/Users/carmenlopez/miniconda3/envs/diametery/lib/python3.8/site-packages/numpy/core/_methods.py:170: RuntimeWarning: invalid value encountered in double_scalars\n",
      "  ret = ret.dtype.type(ret / rcount)\n",
      "images: 57it [00:01, 32.60it/s]/Users/carmenlopez/miniconda3/envs/diametery/lib/python3.8/site-packages/scipy/optimize/_minpack_py.py:833: OptimizeWarning: Covariance of the parameters could not be estimated\n",
      "  warnings.warn('Covariance of the parameters could not be estimated',\n",
      "images: 127it [00:04, 22.61it/s]"
     ]
    },
    {
     "name": "stdout",
     "output_type": "stream",
     "text": [
      "                                                 image   d     d_pred\n",
      "0    <wandb.sdk.data_types.image.Image object at 0x...  27  27.000000\n",
      "1    <wandb.sdk.data_types.image.Image object at 0x...  34  33.111111\n",
      "2    <wandb.sdk.data_types.image.Image object at 0x...  34  33.777778\n",
      "3    <wandb.sdk.data_types.image.Image object at 0x...  31  31.000000\n",
      "4    <wandb.sdk.data_types.image.Image object at 0x...  14  13.222222\n",
      "..                                                 ...  ..        ...\n",
      "123  <wandb.sdk.data_types.image.Image object at 0x...  55  56.000000\n",
      "124  <wandb.sdk.data_types.image.Image object at 0x...  58  57.500000\n",
      "125  <wandb.sdk.data_types.image.Image object at 0x...  60  59.333333\n",
      "126  <wandb.sdk.data_types.image.Image object at 0x...  33  32.571429\n",
      "127  <wandb.sdk.data_types.image.Image object at 0x...  51  51.833333\n",
      "\n",
      "[128 rows x 3 columns]\n"
     ]
    },
    {
     "data": {
      "text/html": [
       "Waiting for W&B process to finish... <strong style=\"color:green\">(success).</strong>"
      ],
      "text/plain": [
       "<IPython.core.display.HTML object>"
      ]
     },
     "metadata": {},
     "output_type": "display_data"
    },
    {
     "data": {
      "text/html": [
       "Synced <strong style=\"color:#cdcd00\">dutiful-sky-5</strong>: <a href=\"https://wandb.ai/warm-kanelbullar/diameterY-simple/runs/j9wph9wv\" target=\"_blank\">https://wandb.ai/warm-kanelbullar/diameterY-simple/runs/j9wph9wv</a><br/>Synced 6 W&B file(s), 0 media file(s), 0 artifact file(s) and 0 other file(s)"
      ],
      "text/plain": [
       "<IPython.core.display.HTML object>"
      ]
     },
     "metadata": {},
     "output_type": "display_data"
    },
    {
     "data": {
      "text/html": [
       "Find logs at: <code>./wandb/run-20220709_183937-j9wph9wv/logs</code>"
      ],
      "text/plain": [
       "<IPython.core.display.HTML object>"
      ]
     },
     "metadata": {},
     "output_type": "display_data"
    }
   ],
   "source": [
    "with wandb.init(project=\"diameterY-simple\", job_type=\"test\", mode=\"online\") as run:\n",
    "    run.config.n_measurements = 10\n",
    "    run.config.step_size = 0.3\n",
    "    #Download dataset 2D fibers\n",
    "    dataset_artifact = run.use_artifact(\"simple-fibers:v0\")\n",
    "    dataset_dir = dataset_artifact.download(\"dataset_files\")\n",
    "    model = LineFit(run.config.n_measurements, run.config.step_size)\n",
    "    rows = []\n",
    "    pbar = tqdm(desc=\"images\")\n",
    "    for f in os.listdir(dataset_dir): \n",
    "        if f.startswith(\"test\") and f.endswith(\".npz\"):\n",
    "            file_path = os.path.join(dataset_dir, f)\n",
    "            example = np.load(file_path)\n",
    "            diameter_pred = model.predict(example[\"x\"])\n",
    "            rows.append(dict(\n",
    "                image=wandb.Image(example[\"x\"], caption=os.path.splitext(f)[0]), \n",
    "                d=example[\"d\"],\n",
    "                d_pred=diameter_pred\n",
    "            ))\n",
    "            pbar.update()\n",
    "    df = pd.DataFrame(rows)\n",
    "    print(df)"
   ]
  },
  {
   "cell_type": "code",
   "execution_count": 20,
   "metadata": {},
   "outputs": [
    {
     "name": "stdout",
     "output_type": "stream",
     "text": [
      "1.7641572016223948\n"
     ]
    }
   ],
   "source": [
    "\n",
    "#(a-r)/r\n",
    "df[\"Error_abs\"] =  abs((df[\"d_pred\"] - df[\"d\"])/ df[\"d\"])\n",
    "abs_error = df[\"Error_abs\"].mean()*100\n",
    "print(abs_error)"
   ]
  },
  {
   "cell_type": "code",
   "execution_count": null,
   "metadata": {},
   "outputs": [],
   "source": []
  }
 ],
 "metadata": {
  "interpreter": {
   "hash": "5d9f69135570fc3243ac7d7b9276ed0b4276cc562be5d026b16fe32f03502662"
  },
  "kernelspec": {
   "display_name": "Python 3.8.12 ('diametery')",
   "language": "python",
   "name": "python3"
  },
  "language_info": {
   "codemirror_mode": {
    "name": "ipython",
    "version": 3
   },
   "file_extension": ".py",
   "mimetype": "text/x-python",
   "name": "python",
   "nbconvert_exporter": "python",
   "pygments_lexer": "ipython3",
   "version": "3.8.12"
  },
  "orig_nbformat": 4
 },
 "nbformat": 4,
 "nbformat_minor": 2
}
