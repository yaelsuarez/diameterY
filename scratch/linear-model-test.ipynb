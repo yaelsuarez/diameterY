{
 "cells": [
  {
   "cell_type": "code",
   "execution_count": 1,
   "metadata": {},
   "outputs": [
    {
     "name": "stderr",
     "output_type": "stream",
     "text": [
      "Failed to detect the name of this notebook, you can set it manually with the WANDB_NOTEBOOK_NAME environment variable to enable code saving.\n",
      "\u001b[34m\u001b[1mwandb\u001b[0m: Currently logged in as: \u001b[33myaelsuarez\u001b[0m (\u001b[33mwarm-kanelbullar\u001b[0m). Use \u001b[1m`wandb login --relogin`\u001b[0m to force relogin\n"
     ]
    },
    {
     "data": {
      "text/plain": [
       "True"
      ]
     },
     "execution_count": 1,
     "metadata": {},
     "output_type": "execute_result"
    }
   ],
   "source": [
    "import wandb\n",
    "wandb.login()"
   ]
  },
  {
   "cell_type": "code",
   "execution_count": 2,
   "metadata": {},
   "outputs": [],
   "source": [
    "from diametery.line_fit import LineFit\n",
    "import numpy as np\n",
    "import pandas as pd\n",
    "import os\n",
    "from tqdm import tqdm"
   ]
  },
  {
   "cell_type": "code",
   "execution_count": 3,
   "metadata": {},
   "outputs": [
    {
     "data": {
      "text/html": [
       "Tracking run with wandb version 0.12.21"
      ],
      "text/plain": [
       "<IPython.core.display.HTML object>"
      ]
     },
     "metadata": {},
     "output_type": "display_data"
    },
    {
     "data": {
      "text/html": [
       "Run data is saved locally in <code>/Users/carmenlopez/dev/diameterY/scratch/wandb/run-20220710_201551-1ma25ods</code>"
      ],
      "text/plain": [
       "<IPython.core.display.HTML object>"
      ]
     },
     "metadata": {},
     "output_type": "display_data"
    },
    {
     "data": {
      "text/html": [
       "Syncing run <strong><a href=\"https://wandb.ai/warm-kanelbullar/diameterY-simple/runs/1ma25ods\" target=\"_blank\">youthful-forest-36</a></strong> to <a href=\"https://wandb.ai/warm-kanelbullar/diameterY-simple\" target=\"_blank\">Weights & Biases</a> (<a href=\"https://wandb.me/run\" target=\"_blank\">docs</a>)<br/>"
      ],
      "text/plain": [
       "<IPython.core.display.HTML object>"
      ]
     },
     "metadata": {},
     "output_type": "display_data"
    },
    {
     "name": "stderr",
     "output_type": "stream",
     "text": [
      "\u001b[34m\u001b[1mwandb\u001b[0m: Downloading large artifact simple-fibers:v0, 802.80MB. 3842 files... Done. 0:0:0.5\n",
      "images: 25it [00:01, 17.06it/s]/Users/carmenlopez/dev/diameterY/diametery/line_fit.py:124: RuntimeWarning: Mean of empty slice.\n",
      "  calculated_diameter = np.array(diameters).mean()\n",
      "/Users/carmenlopez/miniconda3/envs/diametery/lib/python3.8/site-packages/numpy/core/_methods.py:170: RuntimeWarning: invalid value encountered in double_scalars\n",
      "  ret = ret.dtype.type(ret / rcount)\n",
      "images: 58it [00:03, 15.24it/s]/Users/carmenlopez/miniconda3/envs/diametery/lib/python3.8/site-packages/scipy/optimize/_minpack_py.py:833: OptimizeWarning: Covariance of the parameters could not be estimated\n",
      "  warnings.warn('Covariance of the parameters could not be estimated',\n",
      "images: 128it [00:07, 15.77it/s]"
     ]
    },
    {
     "data": {
      "text/html": [
       "Waiting for W&B process to finish... <strong style=\"color:green\">(success).</strong>"
      ],
      "text/plain": [
       "<IPython.core.display.HTML object>"
      ]
     },
     "metadata": {},
     "output_type": "display_data"
    },
    {
     "data": {
      "text/html": [
       "W&B sync reduced upload amount by 34.5%             "
      ],
      "text/plain": [
       "<IPython.core.display.HTML object>"
      ]
     },
     "metadata": {},
     "output_type": "display_data"
    },
    {
     "data": {
      "text/html": [
       "<style>\n",
       "    table.wandb td:nth-child(1) { padding: 0 10px; text-align: left ; width: auto;} td:nth-child(2) {text-align: left ; width: 100%}\n",
       "    .wandb-row { display: flex; flex-direction: row; flex-wrap: wrap; justify-content: flex-start; width: 100% }\n",
       "    .wandb-col { display: flex; flex-direction: column; flex-basis: 100%; flex: 1; padding: 10px; }\n",
       "    </style>\n",
       "<div class=\"wandb-row\"><div class=\"wandb-col\"><h3>Run history:</h3><br/><table class=\"wandb\"><tr><td>mean_abs_error</td><td>▁</td></tr></table><br/></div><div class=\"wandb-col\"><h3>Run summary:</h3><br/><table class=\"wandb\"><tr><td>mean_abs_error</td><td>0.01721</td></tr></table><br/></div></div>"
      ],
      "text/plain": [
       "<IPython.core.display.HTML object>"
      ]
     },
     "metadata": {},
     "output_type": "display_data"
    },
    {
     "data": {
      "text/html": [
       "Synced <strong style=\"color:#cdcd00\">youthful-forest-36</strong>: <a href=\"https://wandb.ai/warm-kanelbullar/diameterY-simple/runs/1ma25ods\" target=\"_blank\">https://wandb.ai/warm-kanelbullar/diameterY-simple/runs/1ma25ods</a><br/>Synced 6 W&B file(s), 0 media file(s), 248 artifact file(s) and 0 other file(s)"
      ],
      "text/plain": [
       "<IPython.core.display.HTML object>"
      ]
     },
     "metadata": {},
     "output_type": "display_data"
    },
    {
     "data": {
      "text/html": [
       "Find logs at: <code>./wandb/run-20220710_201551-1ma25ods/logs</code>"
      ],
      "text/plain": [
       "<IPython.core.display.HTML object>"
      ]
     },
     "metadata": {},
     "output_type": "display_data"
    },
    {
     "name": "stderr",
     "output_type": "stream",
     "text": [
      "images: 128it [00:19, 15.77it/s]"
     ]
    }
   ],
   "source": [
    "with wandb.init(project=\"diameterY-simple\", job_type=\"test\", mode=\"online\") as run:\n",
    "    run.config.n_measurements = 30\n",
    "    run.config.step_size = 0.3\n",
    "    #Download dataset 2D fibers\n",
    "    dataset_artifact = run.use_artifact(\"simple-fibers:v0\")\n",
    "    dataset_dir = dataset_artifact.download(\"dataset_files\")\n",
    "    model = LineFit(run.config.n_measurements, run.config.step_size)\n",
    "    rows = []\n",
    "    pbar = tqdm(desc=\"images\")\n",
    "    for f in os.listdir(dataset_dir): \n",
    "        if f.startswith(\"test\") and f.endswith(\".npz\"):\n",
    "            file_path = os.path.join(dataset_dir, f)\n",
    "            example = np.load(file_path)\n",
    "            diameter_pred, mask_meas_lines = model.predict(example[\"x\"])\n",
    "            class_labels = ({0:'bg', 1:'measured_lines'})\n",
    "            wandb_im = wandb.Image(example[\"x\"], caption=\"masks_measured_lines\", masks={\n",
    "                            'measurements':{\n",
    "                                'mask_data': mask_meas_lines,\n",
    "                                'class_labels': class_labels  \n",
    "                        }})\n",
    "            rows.append(dict(\n",
    "                measured_lines=wandb_im,\n",
    "                d=example[\"d\"],\n",
    "                d_pred=diameter_pred,\n",
    "                ))\n",
    "            pbar.update()\n",
    "    df = pd.DataFrame(rows)\n",
    "    df[\"Error_abs\"] =  abs((df[\"d_pred\"] - df[\"d\"])/ df[\"d\"])\n",
    "    mean_abs_error = df[\"Error_abs\"].mean()\n",
    "    artifact = wandb.Artifact(\"test_table\", type=\"test-results\")\n",
    "    table = wandb.Table(dataframe=df)\n",
    "    artifact.add(table, name=\"test-results\")\n",
    "    run.log_artifact(artifact)\n",
    "    run.log(dict(mean_abs_error=mean_abs_error))\n",
    "    "
   ]
  }
 ],
 "metadata": {
  "interpreter": {
   "hash": "5d9f69135570fc3243ac7d7b9276ed0b4276cc562be5d026b16fe32f03502662"
  },
  "kernelspec": {
   "display_name": "Python 3.8.12 ('diametery')",
   "language": "python",
   "name": "python3"
  },
  "language_info": {
   "codemirror_mode": {
    "name": "ipython",
    "version": 3
   },
   "file_extension": ".py",
   "mimetype": "text/x-python",
   "name": "python",
   "nbconvert_exporter": "python",
   "pygments_lexer": "ipython3",
   "version": "3.8.12"
  },
  "orig_nbformat": 4
 },
 "nbformat": 4,
 "nbformat_minor": 2
}
