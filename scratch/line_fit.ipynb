{
 "cells": [
  {
   "cell_type": "code",
   "execution_count": 313,
   "metadata": {},
   "outputs": [],
   "source": [
    "import numpy as np\n",
    "import matplotlib.pyplot as plt\n",
    "from diametery.fiber import Image\n",
    "from scipy.optimize import curve_fit\n",
    "#from sklearn.metrics import mean_squared_error"
   ]
  },
  {
   "cell_type": "code",
   "execution_count": 314,
   "metadata": {},
   "outputs": [],
   "source": [
    "def get_coordinates(im, value_for_mask):\n",
    "    #I = rgb2gray(I_orig) #we can delete this if we get binary images\n",
    "    mask = im > value_for_mask\n",
    "    fiber_coor = np.argwhere(mask)\n",
    "    x = fiber_coor[:, 1]\n",
    "    y = fiber_coor[:, 0]\n",
    "    return x, y\n",
    "\n",
    "def func_line(x, a, b):\n",
    "    return a * x + b\n",
    "def func_line_inv(y, a, b):\n",
    "    return (y - b)/a\n",
    "\n",
    "def create_fiber():\n",
    "    image = Image.create()\n",
    "    im = image.render_image()\n",
    "    return im, image.fiber.diameter\n",
    "\n",
    "def get_fited_line_x_y(im):\n",
    "    value_for_mask = (int(np.max(im))+int(np.min(im)))/2 # Pixels to mask in get_coordinate\n",
    "    x, y = get_coordinates(im, value_for_mask)\n",
    "    popt, pcov = curve_fit(func_line, x, y)\n",
    "    return x, y, popt, pcov\n",
    "def get_fited_line_y_x(im):\n",
    "    value_for_mask = (int(np.max(im))+int(np.min(im)))/2 # Pixels to mask in get_coordinate\n",
    "    x, y = get_coordinates(im, value_for_mask)\n",
    "    popt, pcov = curve_fit(func_line, y, x)\n",
    "    return x, y, popt, pcov\n",
    "\n",
    "def get_better_fit(x, popt, popt_inv, pcov, pcov_inv):\n",
    "    diagonal = np.diagonal(pcov)\n",
    "    diagonal_inv = np.diagonal(pcov_inv)\n",
    "    if np.less(diagonal, diagonal_inv).all() == True:\n",
    "        popt_fit = popt\n",
    "        x_line = np.arange(0, max(x), 1)\n",
    "        y_line = []\n",
    "        for i in x_line:\n",
    "            a = func_line(x_line[i], *popt)\n",
    "            y_line.append(a)\n",
    "        y_fit = y_line\n",
    "        x_fit = x_line\n",
    "        p1 = [x_fit[0],y_fit[0]]\n",
    "        p2 = [x_fit[-1],y_fit[-1]]\n",
    "    elif np.less(diagonal, diagonal_inv).all() == False:\n",
    "        popt_fit = [1/popt_inv[0], (-popt_inv[1])/popt_inv[0]]\n",
    "        y_line = np.arange(0, max(y), 1)\n",
    "        x_line = []\n",
    "        for i in y_line:\n",
    "            a = func_line(y_line[i], *popt_inv)\n",
    "            x_line.append(a)\n",
    "        y_fit = y_line\n",
    "        x_fit = x_line\n",
    "        p1 = [x_fit[0],y_fit[0]]\n",
    "        p2 = [x_fit[-1],y_fit[-1]]\n",
    "    else:\n",
    "        print(\"One of the pcov values is True and the rest are False\")\n",
    "    return popt_fit, x_fit, y_fit, p1, p2\n",
    "\n",
    "def get_point(t, p1, p2):\n",
    "    dx = p2[0]-p1[0]\n",
    "    dy = p2[1]-p1[1]\n",
    "    p = [(dx * t + p1[0]), (dy * t + p1[1])]\n",
    "    return p, dx, dy\n",
    "\n",
    "def get_normal_vector(t, dx, dy, p3):\n",
    "    n_pos = [-dy, dx]\n",
    "    mag_pos = np.linalg.norm(n_pos)\n",
    "    nu_pos = n_pos/mag_pos\n",
    "    u_pos = [(nu_pos[0] * t + p3[0]), (nu_pos[1] * t + p3[1])]\n",
    "    return u_pos\n"
   ]
  },
  {
   "cell_type": "code",
   "execution_count": 330,
   "metadata": {},
   "outputs": [
    {
     "name": "stdout",
     "output_type": "stream",
     "text": [
      "The calculated diameter is : 48.888888888888886\n",
      "The true diameter is : 49\n"
     ]
    },
    {
     "data": {
      "image/png": "[encoded data removed]",
      "text/plain": [
       "<Figure size 432x288 with 1 Axes>"
      ]
     },
     "metadata": {
      "needs_background": "light"
     },
     "output_type": "display_data"
    }
   ],
   "source": [
    "im, true_diameter = create_fiber()\n",
    "plt.imshow(im, vmax=255, vmin=0, cmap='gray')\n",
    "x, y, popt, pcov = get_fited_line_x_y(im)\n",
    "_, _, popt_inv, pcov_inv = get_fited_line_y_x(im)\n",
    "popt_fit, x_fit, y_fit, p1, p2 = get_better_fit(x, popt, popt_inv, pcov, pcov_inv)\n",
    "\n",
    "measurements = 10\n",
    "half = (int(np.max(im))+int(np.min(im)))/2\n",
    "all_pixels_n = []\n",
    "all_pixels_p = []\n",
    "all_pixels = []\n",
    "\n",
    "for n in range(1, measurements): \n",
    "    t = 1/measurements \n",
    "    p3, dx1, dy1 = get_point((t * n), p1, p2)\n",
    "    for ts in (range(len(im[0]))):\n",
    "        u_pos = get_normal_vector((ts+(0.5)), dx1, dy1, p3)\n",
    "        test = im[round(u_pos[1]),round(u_pos[0])] > half\n",
    "        if test == False:\n",
    "            pixels_p = ts - 1\n",
    "            break\n",
    "    plt.plot(p3[0], p3[1], 'r.', markersize=12)\n",
    "    plt.plot(u_pos[0], u_pos[1], 'c.', markersize=12)\n",
    "    all_pixels_p.append(pixels_p)\n",
    "    for ts in (range(len(im[0]))):\n",
    "        u_pos = get_normal_vector((-(ts+(0.5))), dx1, dy1, p3)\n",
    "        test = im[round(u_pos[1]),round(u_pos[0])] > half\n",
    "        if test == False:\n",
    "            pixels_n = ts - 1\n",
    "            break\n",
    "    plt.plot(u_pos[0], u_pos[1], 'c.', markersize=12)\n",
    "    all_pixels_n.append(pixels_n)\n",
    "\n",
    "    all_pixels = (np.array(all_pixels_p) + np.array(all_pixels_n)).mean()\n",
    "    \n",
    "\n",
    "calculated_diameter = all_pixels\n",
    "print(\"The calculated diameter is :\", calculated_diameter)\n",
    "print(\"The true diameter is :\", true_diameter) \n",
    "    #b = bajo = 0 = False [y, x] \n",
    "    # sample in t < 1 and round up \n",
    "\n",
    "\n",
    "plt.plot(x_fit, y_fit, 'g--')\n",
    "plt.plot(p1[0], p1[1], 'g.', markersize=12)\n",
    "plt.plot(p2[0], p2[1], 'b.', markersize=12)\n",
    "\n",
    "plt.show()\n"
   ]
  },
  {
   "cell_type": "code",
   "execution_count": null,
   "metadata": {},
   "outputs": [],
   "source": []
  },
  {
   "cell_type": "code",
   "execution_count": null,
   "metadata": {},
   "outputs": [],
   "source": []
  }
 ],
 "metadata": {
  "interpreter": {
   "hash": "5d9f69135570fc3243ac7d7b9276ed0b4276cc562be5d026b16fe32f03502662"
  },
  "kernelspec": {
   "display_name": "Python 3.8.12 ('diametery')",
   "language": "python",
   "name": "python3"
  },
  "language_info": {
   "codemirror_mode": {
    "name": "ipython",
    "version": 3
   },
   "file_extension": ".py",
   "mimetype": "text/x-python",
   "name": "python",
   "nbconvert_exporter": "python",
   "pygments_lexer": "ipython3",
   "version": "3.8.12"
  },
  "orig_nbformat": 4
 },
 "nbformat": 4,
 "nbformat_minor": 2
}
