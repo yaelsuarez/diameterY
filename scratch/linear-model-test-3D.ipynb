{
 "cells": [
  {
   "cell_type": "code",
   "execution_count": null,
   "metadata": {},
   "outputs": [],
   "source": [
    "import wandb\n",
    "wandb.login()"
   ]
  },
  {
   "cell_type": "code",
   "execution_count": null,
   "metadata": {},
   "outputs": [],
   "source": [
    "from diametery.line_fit import LineFit\n",
    "import numpy as np\n",
    "import pandas as pd\n",
    "import os\n",
    "from tqdm import tqdm\n",
    "from PIL import Image, ImageOps\n",
    "import matplotlib.pyplot as plt"
   ]
  },
  {
   "cell_type": "code",
   "execution_count": 35,
   "metadata": {},
   "outputs": [],
   "source": [
    "def load_task(file_path):\n",
    "    # Load an image\n",
    "    im = Image.open(os.path.join(file_path))\n",
    "    im = np.array(ImageOps.grayscale(im))\n",
    "    #im = im.reshape(im.shape+(1,)).astype(np.float32)/255 # one channel image\n",
    "    # Load segmentation\n",
    "    seg:np.ndarray = np.load(os.path.join(file_path + '_seg'))['y']\n",
    "    return im, seg\n",
    "\n",
    "def select_point_and_fiber(seg):\n",
    "    # Select a random point that is not background, return the mask for the fiber that the point touches.\n",
    "    mask_all = seg > 0\n",
    "    possible_points = np.argwhere(mask_all)\n",
    "    point_index = np.random.randint(0, possible_points.shape[0]-1)\n",
    "    point = possible_points[point_index]\n",
    "    fiber_id = seg[point[0], point[1], point[2]]\n",
    "    mask = seg == fiber_id\n",
    "    selected_seg = np.zeros_like(seg, dtype=np.float32)\n",
    "    selected_seg[mask] = 1.0\n",
    "    return point[0:2], selected_seg"
   ]
  },
  {
   "cell_type": "code",
   "execution_count": 51,
   "metadata": {},
   "outputs": [
    {
     "name": "stdout",
     "output_type": "stream",
     "text": [
      "(256, 256)\n"
     ]
    }
   ],
   "source": [
    "dataset_path = '/Users/carmenlopez/dev/diameterY/scratch/dataset_files_3D'\n",
    "task_id = 'test0000'\n",
    "file_path = os.path.join(dataset_path, task_id)\n",
    "im, seg = load_task(file_path)\n",
    "point, selected_seg = select_point_and_fiber(seg)\n",
    "selected_seg = selected_seg.reshape((selected_seg.shape[0:2]))\n",
    "print(selected_seg.shape)\n"
   ]
  },
  {
   "cell_type": "code",
   "execution_count": null,
   "metadata": {},
   "outputs": [],
   "source": [
    "with wandb.init(project=\"diameterY\", job_type=\"test\", mode=\"online\") as run:\n",
    "    run.config.n_measurements = 30\n",
    "    run.config.step_size = 0.3\n",
    "    #Download dataset 3D fibers\n",
    "    dataset_artifact = run.use_artifact(\"rendered-fibers-mini:v0\")\n",
    "    dataset_dir = dataset_artifact.download(\"dataset_files_3D\")\n",
    "    model = LineFit(run.config.n_measurements, run.config.step_size)\n",
    "    rows = []\n",
    "    pbar = tqdm(desc=\"images\")\n",
    "    for f in os.listdir(dataset_dir): \n",
    "        if f.startswith(\"test\") and not (f.endswith(\"_params\") or f.endswith(\"_seg\")):\n",
    "            file_path = os.path.join(dataset_dir, f)\n",
    "            example = np.load(file_path)\n",
    "            im, seg = load_task(file_path)\n",
    "            point, selected_seg = select_point_and_fiber(seg)\n",
    "            diameter_pred, mask_meas_lines = model.predict(example[\"x\"])\n",
    "            class_labels = ({0:'bg', 1:'measured_lines'})\n",
    "            wandb_im = wandb.Image(example[\"x\"], caption=\"masks_measured_lines\", masks={\n",
    "                            'measurements':{\n",
    "                                'mask_data': mask_meas_lines,\n",
    "                                'class_labels': class_labels  \n",
    "                        }})\n",
    "            rows.append(dict(\n",
    "                measured_lines=wandb_im,\n",
    "                d=example[\"d\"],\n",
    "                d_pred=diameter_pred,\n",
    "                ))\n",
    "            pbar.update()\n",
    "    df = pd.DataFrame(rows)\n",
    "    df[\"Error_abs\"] =  abs((df[\"d_pred\"] - df[\"d\"])/ df[\"d\"])\n",
    "    mean_abs_error = df[\"Error_abs\"].mean()\n",
    "    artifact = wandb.Artifact(\"test_table\", type=\"test-results\")\n",
    "    table = wandb.Table(dataframe=df)\n",
    "    artifact.add(table, name=\"test-results\")\n",
    "    run.log_artifact(artifact)\n",
    "    run.log(dict(mean_abs_error=mean_abs_error))\n",
    "    \n",
    "    "
   ]
  }
 ],
 "metadata": {
  "interpreter": {
   "hash": "5d9f69135570fc3243ac7d7b9276ed0b4276cc562be5d026b16fe32f03502662"
  },
  "kernelspec": {
   "display_name": "Python 3.8.12 ('diametery')",
   "language": "python",
   "name": "python3"
  },
  "language_info": {
   "codemirror_mode": {
    "name": "ipython",
    "version": 3
   },
   "file_extension": ".py",
   "mimetype": "text/x-python",
   "name": "python",
   "nbconvert_exporter": "python",
   "pygments_lexer": "ipython3",
   "version": "3.8.12"
  },
  "orig_nbformat": 4
 },
 "nbformat": 4,
 "nbformat_minor": 2
}
