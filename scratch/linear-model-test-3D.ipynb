{
 "cells": [
  {
   "cell_type": "code",
   "execution_count": 1,
   "metadata": {},
   "outputs": [
    {
     "name": "stderr",
     "output_type": "stream",
     "text": [
      "Failed to detect the name of this notebook, you can set it manually with the WANDB_NOTEBOOK_NAME environment variable to enable code saving.\n",
      "\u001b[34m\u001b[1mwandb\u001b[0m: Currently logged in as: \u001b[33myaelsuarez\u001b[0m (\u001b[33mwarm-kanelbullar\u001b[0m). Use \u001b[1m`wandb login --relogin`\u001b[0m to force relogin\n"
     ]
    },
    {
     "data": {
      "text/plain": [
       "True"
      ]
     },
     "execution_count": 1,
     "metadata": {},
     "output_type": "execute_result"
    }
   ],
   "source": [
    "import wandb\n",
    "wandb.login()"
   ]
  },
  {
   "cell_type": "code",
   "execution_count": 2,
   "metadata": {},
   "outputs": [],
   "source": [
    "from diametery.line_fit import LineFit\n",
    "import numpy as np\n",
    "import pandas as pd\n",
    "import os\n",
    "from tqdm import tqdm\n",
    "from PIL import Image, ImageOps\n",
    "import matplotlib.pyplot as plt\n",
    "import json"
   ]
  },
  {
   "cell_type": "code",
   "execution_count": 3,
   "metadata": {},
   "outputs": [],
   "source": [
    "def load_task(file_path):\n",
    "    # Load an image\n",
    "    im = Image.open(os.path.join(file_path))\n",
    "    im = np.array(ImageOps.grayscale(im))\n",
    "    #im = im.reshape(im.shape+(1,)).astype(np.float32)/255 # one channel image\n",
    "    # Load segmentation\n",
    "    seg:np.ndarray = np.load(os.path.join(file_path + '_seg'))['y']\n",
    "    with open(file_path + \"_params\") as file:\n",
    "        params = {int(k):v for k,v in json.load(file).items()}\n",
    "\n",
    "    return im, seg, params\n",
    "\n",
    "def select_point_and_fiber(seg):\n",
    "    # Select a random point that is not background, return the mask for the fiber that the point touches.\n",
    "    mask_all = seg > 0\n",
    "    possible_points = np.argwhere(mask_all)\n",
    "    point_index = np.random.randint(0, possible_points.shape[0]-1)\n",
    "    point = possible_points[point_index]\n",
    "    fiber_id = seg[point[0], point[1], point[2]]\n",
    "    mask = seg == fiber_id\n",
    "    selected_seg = np.zeros_like(seg, dtype=np.float32)\n",
    "    selected_seg[mask] = 1.0\n",
    "    return point[0:2], selected_seg, fiber_id"
   ]
  },
  {
   "cell_type": "code",
   "execution_count": 4,
   "metadata": {},
   "outputs": [
    {
     "data": {
      "text/html": [
       "Tracking run with wandb version 0.12.21"
      ],
      "text/plain": [
       "<IPython.core.display.HTML object>"
      ]
     },
     "metadata": {},
     "output_type": "display_data"
    },
    {
     "data": {
      "text/html": [
       "Run data is saved locally in <code>/Users/carmenlopez/dev/diameterY/scratch/wandb/run-20220716_162536-3jo06jx4</code>"
      ],
      "text/plain": [
       "<IPython.core.display.HTML object>"
      ]
     },
     "metadata": {},
     "output_type": "display_data"
    },
    {
     "data": {
      "text/html": [
       "Syncing run <strong><a href=\"https://wandb.ai/warm-kanelbullar/diameterY/runs/3jo06jx4\" target=\"_blank\">eager-grass-77</a></strong> to <a href=\"https://wandb.ai/warm-kanelbullar/diameterY\" target=\"_blank\">Weights & Biases</a> (<a href=\"https://wandb.me/run\" target=\"_blank\">docs</a>)<br/>"
      ],
      "text/plain": [
       "<IPython.core.display.HTML object>"
      ]
     },
     "metadata": {},
     "output_type": "display_data"
    },
    {
     "name": "stderr",
     "output_type": "stream",
     "text": [
      "images: 14it [00:01,  6.91it/s]/Users/carmenlopez/dev/diameterY/diametery/line_fit.py:138: RuntimeWarning: Mean of empty slice.\n",
      "  calculated_diameter = np.array(diameters).mean()\n",
      "/Users/carmenlopez/miniconda3/envs/diametery/lib/python3.8/site-packages/numpy/core/_methods.py:170: RuntimeWarning: invalid value encountered in double_scalars\n",
      "  ret = ret.dtype.type(ret / rcount)\n",
      "images: 64it [00:06, 10.69it/s]"
     ]
    },
    {
     "data": {
      "text/html": [
       "Waiting for W&B process to finish... <strong style=\"color:green\">(success).</strong>"
      ],
      "text/plain": [
       "<IPython.core.display.HTML object>"
      ]
     },
     "metadata": {},
     "output_type": "display_data"
    },
    {
     "data": {
      "text/html": [
       "W&B sync reduced upload amount by 9.3%             "
      ],
      "text/plain": [
       "<IPython.core.display.HTML object>"
      ]
     },
     "metadata": {},
     "output_type": "display_data"
    },
    {
     "data": {
      "text/html": [
       "<style>\n",
       "    table.wandb td:nth-child(1) { padding: 0 10px; text-align: left ; width: auto;} td:nth-child(2) {text-align: left ; width: 100%}\n",
       "    .wandb-row { display: flex; flex-direction: row; flex-wrap: wrap; justify-content: flex-start; width: 100% }\n",
       "    .wandb-col { display: flex; flex-direction: column; flex-basis: 100%; flex: 1; padding: 10px; }\n",
       "    </style>\n",
       "<div class=\"wandb-row\"><div class=\"wandb-col\"><h3>Run history:</h3><br/><table class=\"wandb\"><tr><td>mean_abs_error</td><td>▁</td></tr></table><br/></div><div class=\"wandb-col\"><h3>Run summary:</h3><br/><table class=\"wandb\"><tr><td>mean_abs_error</td><td>0.09015</td></tr></table><br/></div></div>"
      ],
      "text/plain": [
       "<IPython.core.display.HTML object>"
      ]
     },
     "metadata": {},
     "output_type": "display_data"
    },
    {
     "data": {
      "text/html": [
       "Synced <strong style=\"color:#cdcd00\">eager-grass-77</strong>: <a href=\"https://wandb.ai/warm-kanelbullar/diameterY/runs/3jo06jx4\" target=\"_blank\">https://wandb.ai/warm-kanelbullar/diameterY/runs/3jo06jx4</a><br/>Synced 6 W&B file(s), 0 media file(s), 123 artifact file(s) and 0 other file(s)"
      ],
      "text/plain": [
       "<IPython.core.display.HTML object>"
      ]
     },
     "metadata": {},
     "output_type": "display_data"
    },
    {
     "data": {
      "text/html": [
       "Find logs at: <code>./wandb/run-20220716_162536-3jo06jx4/logs</code>"
      ],
      "text/plain": [
       "<IPython.core.display.HTML object>"
      ]
     },
     "metadata": {},
     "output_type": "display_data"
    },
    {
     "name": "stderr",
     "output_type": "stream",
     "text": [
      "images: 64it [00:20, 10.69it/s]"
     ]
    }
   ],
   "source": [
    "with wandb.init(project=\"diameterY\", job_type=\"test\", mode=\"online\") as run:\n",
    "    run.config.n_measurements = 30\n",
    "    run.config.step_size = 0.3\n",
    "    #Download dataset 3D fibers\n",
    "    dataset_artifact = run.use_artifact(\"rendered-fibers-mini:v0\")\n",
    "    dataset_dir = dataset_artifact.download(\"dataset_files_3D\")\n",
    "    model = LineFit(run.config.n_measurements, run.config.step_size)\n",
    "    rows = []\n",
    "    pbar = tqdm(desc=\"images\")\n",
    "    for f in os.listdir(dataset_dir): \n",
    "        if f.startswith(\"test\") and not (f.endswith(\"_params\") or f.endswith(\"_seg\")):\n",
    "            file_path = os.path.join(dataset_dir, f)\n",
    "            im, seg, params = load_task(file_path)\n",
    "            point, selected_seg, fiber_id = select_point_and_fiber(seg)\n",
    "            diameter_pred, mask_meas_lines = model.predict(selected_seg)\n",
    "            mask_meas_lines = mask_meas_lines.reshape((selected_seg.shape[0:2]))\n",
    "            class_labels = ({0:'bg', 1:'measured_lines'})\n",
    "            d_m = params[fiber_id]['d']\n",
    "            wandb_im = wandb.Image(selected_seg, caption=\"masks_measured_lines\", masks={\n",
    "                            'measurements':{\n",
    "                                'mask_data': mask_meas_lines,\n",
    "                                'class_labels': class_labels  \n",
    "                        }})\n",
    "            rows.append(dict(\n",
    "                measured_lines=wandb_im,\n",
    "                d = d_m * (im.shape[0]),\n",
    "                d_pred=diameter_pred,\n",
    "                ))\n",
    "            pbar.update()\n",
    "    df = pd.DataFrame(rows)\n",
    "    df[\"Error_abs\"] =  abs((df[\"d_pred\"] - df[\"d\"])/ df[\"d\"])\n",
    "    mean_abs_error = df[\"Error_abs\"].mean()\n",
    "    artifact = wandb.Artifact(\"test_table\", type=\"test-results\")\n",
    "    table = wandb.Table(dataframe=df)\n",
    "    artifact.add(table, name=\"test-results\")\n",
    "    run.log_artifact(artifact)\n",
    "    run.log(dict(mean_abs_error=mean_abs_error))\n",
    "    \n",
    "    "
   ]
  }
 ],
 "metadata": {
  "interpreter": {
   "hash": "5d9f69135570fc3243ac7d7b9276ed0b4276cc562be5d026b16fe32f03502662"
  },
  "kernelspec": {
   "display_name": "Python 3.8.12 ('diametery')",
   "language": "python",
   "name": "python3"
  },
  "language_info": {
   "codemirror_mode": {
    "name": "ipython",
    "version": 3
   },
   "file_extension": ".py",
   "mimetype": "text/x-python",
   "name": "python",
   "nbconvert_exporter": "python",
   "pygments_lexer": "ipython3",
   "version": "3.8.12"
  },
  "orig_nbformat": 4
 },
 "nbformat": 4,
 "nbformat_minor": 2
}
